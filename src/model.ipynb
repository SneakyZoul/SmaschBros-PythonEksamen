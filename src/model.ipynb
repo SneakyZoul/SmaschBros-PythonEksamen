{
 "cells": [
  {
   "cell_type": "code",
   "execution_count": 1,
   "metadata": {
    "collapsed": true
   },
   "outputs": [
    {
     "ename": "ImportError",
     "evalue": "Traceback (most recent call last):\n  File \"/Users/christiancleve/opt/anaconda3/lib/python3.9/site-packages/tensorflow/python/pywrap_tensorflow.py\", line 58, in <module>\n    from tensorflow.python.pywrap_tensorflow_internal import *\n  File \"/Users/christiancleve/opt/anaconda3/lib/python3.9/site-packages/tensorflow/python/pywrap_tensorflow_internal.py\", line 28, in <module>\n    _pywrap_tensorflow_internal = swig_import_helper()\n  File \"/Users/christiancleve/opt/anaconda3/lib/python3.9/site-packages/tensorflow/python/pywrap_tensorflow_internal.py\", line 24, in swig_import_helper\n    _mod = imp.load_module('_pywrap_tensorflow_internal', fp, pathname, description)\n  File \"/Users/christiancleve/opt/anaconda3/lib/python3.9/imp.py\", line 242, in load_module\n    return load_dynamic(name, filename, file)\n  File \"/Users/christiancleve/opt/anaconda3/lib/python3.9/imp.py\", line 342, in load_dynamic\n    return _load(spec)\nImportError: dlopen(/Users/christiancleve/opt/anaconda3/lib/python3.9/site-packages/tensorflow/python/_pywrap_tensorflow_internal.so, 0x0006): tried: '/Users/christiancleve/opt/anaconda3/lib/python3.9/site-packages/tensorflow/python/_pywrap_tensorflow_internal.so' (mach-o file, but is an incompatible architecture (have 'x86_64', need 'arm64')), '/System/Volumes/Preboot/Cryptexes/OS/Users/christiancleve/opt/anaconda3/lib/python3.9/site-packages/tensorflow/python/_pywrap_tensorflow_internal.so' (no such file), '/Users/christiancleve/opt/anaconda3/lib/python3.9/site-packages/tensorflow/python/_pywrap_tensorflow_internal.so' (mach-o file, but is an incompatible architecture (have 'x86_64', need 'arm64'))\n\n\nFailed to load the native TensorFlow runtime.\n\nSee https://www.tensorflow.org/install/errors\n\nfor some common reasons and solutions.  Include the entire stack trace\nabove this error message when asking for help.",
     "output_type": "error",
     "traceback": [
      "\u001B[0;31m---------------------------------------------------------------------------\u001B[0m",
      "\u001B[0;31mImportError\u001B[0m                               Traceback (most recent call last)",
      "File \u001B[0;32m~/opt/anaconda3/lib/python3.9/site-packages/tensorflow/python/pywrap_tensorflow.py:58\u001B[0m\n\u001B[1;32m     56\u001B[0m   sys\u001B[38;5;241m.\u001B[39msetdlopenflags(_default_dlopen_flags \u001B[38;5;241m|\u001B[39m ctypes\u001B[38;5;241m.\u001B[39mRTLD_LOCAL)\n\u001B[0;32m---> 58\u001B[0m \u001B[38;5;28;01mfrom\u001B[39;00m \u001B[38;5;21;01mtensorflow\u001B[39;00m\u001B[38;5;21;01m.\u001B[39;00m\u001B[38;5;21;01mpython\u001B[39;00m\u001B[38;5;21;01m.\u001B[39;00m\u001B[38;5;21;01mpywrap_tensorflow_internal\u001B[39;00m \u001B[38;5;28;01mimport\u001B[39;00m \u001B[38;5;241m*\u001B[39m\n\u001B[1;32m     59\u001B[0m \u001B[38;5;28;01mfrom\u001B[39;00m \u001B[38;5;21;01mtensorflow\u001B[39;00m\u001B[38;5;21;01m.\u001B[39;00m\u001B[38;5;21;01mpython\u001B[39;00m\u001B[38;5;21;01m.\u001B[39;00m\u001B[38;5;21;01mpywrap_tensorflow_internal\u001B[39;00m \u001B[38;5;28;01mimport\u001B[39;00m __version__\n",
      "File \u001B[0;32m~/opt/anaconda3/lib/python3.9/site-packages/tensorflow/python/pywrap_tensorflow_internal.py:28\u001B[0m\n\u001B[1;32m     27\u001B[0m         \u001B[38;5;28;01mreturn\u001B[39;00m _mod\n\u001B[0;32m---> 28\u001B[0m _pywrap_tensorflow_internal \u001B[38;5;241m=\u001B[39m \u001B[43mswig_import_helper\u001B[49m\u001B[43m(\u001B[49m\u001B[43m)\u001B[49m\n\u001B[1;32m     29\u001B[0m \u001B[38;5;28;01mdel\u001B[39;00m swig_import_helper\n",
      "File \u001B[0;32m~/opt/anaconda3/lib/python3.9/site-packages/tensorflow/python/pywrap_tensorflow_internal.py:24\u001B[0m, in \u001B[0;36mswig_import_helper\u001B[0;34m()\u001B[0m\n\u001B[1;32m     23\u001B[0m \u001B[38;5;28;01mtry\u001B[39;00m:\n\u001B[0;32m---> 24\u001B[0m     _mod \u001B[38;5;241m=\u001B[39m \u001B[43mimp\u001B[49m\u001B[38;5;241;43m.\u001B[39;49m\u001B[43mload_module\u001B[49m\u001B[43m(\u001B[49m\u001B[38;5;124;43m'\u001B[39;49m\u001B[38;5;124;43m_pywrap_tensorflow_internal\u001B[39;49m\u001B[38;5;124;43m'\u001B[39;49m\u001B[43m,\u001B[49m\u001B[43m \u001B[49m\u001B[43mfp\u001B[49m\u001B[43m,\u001B[49m\u001B[43m \u001B[49m\u001B[43mpathname\u001B[49m\u001B[43m,\u001B[49m\u001B[43m \u001B[49m\u001B[43mdescription\u001B[49m\u001B[43m)\u001B[49m\n\u001B[1;32m     25\u001B[0m \u001B[38;5;28;01mfinally\u001B[39;00m:\n",
      "File \u001B[0;32m~/opt/anaconda3/lib/python3.9/imp.py:242\u001B[0m, in \u001B[0;36mload_module\u001B[0;34m(name, file, filename, details)\u001B[0m\n\u001B[1;32m    241\u001B[0m     \u001B[38;5;28;01melse\u001B[39;00m:\n\u001B[0;32m--> 242\u001B[0m         \u001B[38;5;28;01mreturn\u001B[39;00m \u001B[43mload_dynamic\u001B[49m\u001B[43m(\u001B[49m\u001B[43mname\u001B[49m\u001B[43m,\u001B[49m\u001B[43m \u001B[49m\u001B[43mfilename\u001B[49m\u001B[43m,\u001B[49m\u001B[43m \u001B[49m\u001B[43mfile\u001B[49m\u001B[43m)\u001B[49m\n\u001B[1;32m    243\u001B[0m \u001B[38;5;28;01melif\u001B[39;00m type_ \u001B[38;5;241m==\u001B[39m PKG_DIRECTORY:\n",
      "File \u001B[0;32m~/opt/anaconda3/lib/python3.9/imp.py:342\u001B[0m, in \u001B[0;36mload_dynamic\u001B[0;34m(name, path, file)\u001B[0m\n\u001B[1;32m    340\u001B[0m spec \u001B[38;5;241m=\u001B[39m importlib\u001B[38;5;241m.\u001B[39mmachinery\u001B[38;5;241m.\u001B[39mModuleSpec(\n\u001B[1;32m    341\u001B[0m     name\u001B[38;5;241m=\u001B[39mname, loader\u001B[38;5;241m=\u001B[39mloader, origin\u001B[38;5;241m=\u001B[39mpath)\n\u001B[0;32m--> 342\u001B[0m \u001B[38;5;28;01mreturn\u001B[39;00m \u001B[43m_load\u001B[49m\u001B[43m(\u001B[49m\u001B[43mspec\u001B[49m\u001B[43m)\u001B[49m\n",
      "\u001B[0;31mImportError\u001B[0m: dlopen(/Users/christiancleve/opt/anaconda3/lib/python3.9/site-packages/tensorflow/python/_pywrap_tensorflow_internal.so, 0x0006): tried: '/Users/christiancleve/opt/anaconda3/lib/python3.9/site-packages/tensorflow/python/_pywrap_tensorflow_internal.so' (mach-o file, but is an incompatible architecture (have 'x86_64', need 'arm64')), '/System/Volumes/Preboot/Cryptexes/OS/Users/christiancleve/opt/anaconda3/lib/python3.9/site-packages/tensorflow/python/_pywrap_tensorflow_internal.so' (no such file), '/Users/christiancleve/opt/anaconda3/lib/python3.9/site-packages/tensorflow/python/_pywrap_tensorflow_internal.so' (mach-o file, but is an incompatible architecture (have 'x86_64', need 'arm64'))",
      "\nDuring handling of the above exception, another exception occurred:\n",
      "\u001B[0;31mImportError\u001B[0m                               Traceback (most recent call last)",
      "Cell \u001B[0;32mIn[1], line 2\u001B[0m\n\u001B[1;32m      1\u001B[0m \u001B[38;5;28;01mimport\u001B[39;00m \u001B[38;5;21;01mnumpy\u001B[39;00m\n\u001B[0;32m----> 2\u001B[0m \u001B[38;5;28;01mfrom\u001B[39;00m \u001B[38;5;21;01mtensorflow\u001B[39;00m \u001B[38;5;28;01mimport\u001B[39;00m keras\n\u001B[1;32m      3\u001B[0m \u001B[38;5;28;01mfrom\u001B[39;00m \u001B[38;5;21;01mkeras\u001B[39;00m\u001B[38;5;21;01m.\u001B[39;00m\u001B[38;5;21;01mconstraints\u001B[39;00m \u001B[38;5;28;01mimport\u001B[39;00m maxnorm\n\u001B[1;32m      4\u001B[0m \u001B[38;5;28;01mfrom\u001B[39;00m \u001B[38;5;21;01mkeras\u001B[39;00m\u001B[38;5;21;01m.\u001B[39;00m\u001B[38;5;21;01mutils\u001B[39;00m \u001B[38;5;28;01mimport\u001B[39;00m np_utils\n",
      "File \u001B[0;32m~/opt/anaconda3/lib/python3.9/site-packages/tensorflow/__init__.py:24\u001B[0m\n\u001B[1;32m     21\u001B[0m \u001B[38;5;28;01mimport\u001B[39;00m \u001B[38;5;21;01mos\u001B[39;00m \u001B[38;5;28;01mas\u001B[39;00m \u001B[38;5;21;01m_os\u001B[39;00m\n\u001B[1;32m     23\u001B[0m \u001B[38;5;66;03m# pylint: disable=g-bad-import-order\u001B[39;00m\n\u001B[0;32m---> 24\u001B[0m \u001B[38;5;28;01mfrom\u001B[39;00m \u001B[38;5;21;01mtensorflow\u001B[39;00m\u001B[38;5;21;01m.\u001B[39;00m\u001B[38;5;21;01mpython\u001B[39;00m \u001B[38;5;28;01mimport\u001B[39;00m pywrap_tensorflow  \u001B[38;5;66;03m# pylint: disable=unused-import\u001B[39;00m\n\u001B[1;32m     26\u001B[0m \u001B[38;5;28;01mtry\u001B[39;00m:\n\u001B[1;32m     27\u001B[0m   \u001B[38;5;66;03m# Add `estimator` attribute to allow access to estimator APIs via\u001B[39;00m\n\u001B[1;32m     28\u001B[0m   \u001B[38;5;66;03m# \"tf.estimator...\"\u001B[39;00m\n\u001B[1;32m     29\u001B[0m   \u001B[38;5;28;01mfrom\u001B[39;00m \u001B[38;5;21;01mtensorflow\u001B[39;00m\u001B[38;5;21;01m.\u001B[39;00m\u001B[38;5;21;01mpython\u001B[39;00m\u001B[38;5;21;01m.\u001B[39;00m\u001B[38;5;21;01mestimator\u001B[39;00m\u001B[38;5;21;01m.\u001B[39;00m\u001B[38;5;21;01mapi\u001B[39;00m \u001B[38;5;28;01mimport\u001B[39;00m estimator  \u001B[38;5;66;03m# pylint: disable=g-import-not-at-top\u001B[39;00m\n",
      "File \u001B[0;32m~/opt/anaconda3/lib/python3.9/site-packages/tensorflow/python/__init__.py:49\u001B[0m\n\u001B[1;32m     32\u001B[0m \u001B[38;5;66;03m# TODO(drpng): write up instructions for editing this file in a doc and point to\u001B[39;00m\n\u001B[1;32m     33\u001B[0m \u001B[38;5;66;03m# the doc instead.\u001B[39;00m\n\u001B[1;32m     34\u001B[0m \u001B[38;5;66;03m# If you want to edit this file to expose modules in public tensorflow API, you\u001B[39;00m\n\u001B[0;32m   (...)\u001B[0m\n\u001B[1;32m     44\u001B[0m \u001B[38;5;66;03m# go/tf-wildcard-import\u001B[39;00m\n\u001B[1;32m     45\u001B[0m \u001B[38;5;66;03m# pylint: disable=wildcard-import,g-bad-import-order,g-import-not-at-top\u001B[39;00m\n\u001B[1;32m     47\u001B[0m \u001B[38;5;28;01mimport\u001B[39;00m \u001B[38;5;21;01mnumpy\u001B[39;00m \u001B[38;5;28;01mas\u001B[39;00m \u001B[38;5;21;01mnp\u001B[39;00m\n\u001B[0;32m---> 49\u001B[0m \u001B[38;5;28;01mfrom\u001B[39;00m \u001B[38;5;21;01mtensorflow\u001B[39;00m\u001B[38;5;21;01m.\u001B[39;00m\u001B[38;5;21;01mpython\u001B[39;00m \u001B[38;5;28;01mimport\u001B[39;00m pywrap_tensorflow\n\u001B[1;32m     51\u001B[0m \u001B[38;5;28;01mfrom\u001B[39;00m \u001B[38;5;21;01mtensorflow\u001B[39;00m\u001B[38;5;21;01m.\u001B[39;00m\u001B[38;5;21;01mpython\u001B[39;00m\u001B[38;5;21;01m.\u001B[39;00m\u001B[38;5;21;01mtools\u001B[39;00m \u001B[38;5;28;01mimport\u001B[39;00m component_api_helper\n\u001B[1;32m     52\u001B[0m component_api_helper\u001B[38;5;241m.\u001B[39mpackage_hook(\n\u001B[1;32m     53\u001B[0m     parent_package_str\u001B[38;5;241m=\u001B[39m\u001B[38;5;124m'\u001B[39m\u001B[38;5;124mtensorflow.python\u001B[39m\u001B[38;5;124m'\u001B[39m,\n\u001B[1;32m     54\u001B[0m     child_package_str\u001B[38;5;241m=\u001B[39m(\n\u001B[1;32m     55\u001B[0m         \u001B[38;5;124m'\u001B[39m\u001B[38;5;124mtensorflow_estimator.python.estimator\u001B[39m\u001B[38;5;124m'\u001B[39m))\n",
      "File \u001B[0;32m~/opt/anaconda3/lib/python3.9/site-packages/tensorflow/python/pywrap_tensorflow.py:74\u001B[0m\n\u001B[1;32m     69\u001B[0m \u001B[38;5;28;01mexcept\u001B[39;00m \u001B[38;5;167;01mImportError\u001B[39;00m:\n\u001B[1;32m     70\u001B[0m   msg \u001B[38;5;241m=\u001B[39m \u001B[38;5;124m\"\"\"\u001B[39m\u001B[38;5;132;01m%s\u001B[39;00m\u001B[38;5;130;01m\\n\u001B[39;00m\u001B[38;5;130;01m\\n\u001B[39;00m\u001B[38;5;124mFailed to load the native TensorFlow runtime.\u001B[39m\u001B[38;5;130;01m\\n\u001B[39;00m\n\u001B[1;32m     71\u001B[0m \u001B[38;5;124mSee https://www.tensorflow.org/install/errors\u001B[39m\u001B[38;5;130;01m\\n\u001B[39;00m\n\u001B[1;32m     72\u001B[0m \u001B[38;5;124mfor some common reasons and solutions.  Include the entire stack trace\u001B[39m\n\u001B[1;32m     73\u001B[0m \u001B[38;5;124mabove this error message when asking for help.\u001B[39m\u001B[38;5;124m\"\"\"\u001B[39m \u001B[38;5;241m%\u001B[39m traceback\u001B[38;5;241m.\u001B[39mformat_exc()\n\u001B[0;32m---> 74\u001B[0m   \u001B[38;5;28;01mraise\u001B[39;00m \u001B[38;5;167;01mImportError\u001B[39;00m(msg)\n\u001B[1;32m     76\u001B[0m \u001B[38;5;66;03m# pylint: enable=wildcard-import,g-import-not-at-top,unused-import,line-too-long\u001B[39;00m\n",
      "\u001B[0;31mImportError\u001B[0m: Traceback (most recent call last):\n  File \"/Users/christiancleve/opt/anaconda3/lib/python3.9/site-packages/tensorflow/python/pywrap_tensorflow.py\", line 58, in <module>\n    from tensorflow.python.pywrap_tensorflow_internal import *\n  File \"/Users/christiancleve/opt/anaconda3/lib/python3.9/site-packages/tensorflow/python/pywrap_tensorflow_internal.py\", line 28, in <module>\n    _pywrap_tensorflow_internal = swig_import_helper()\n  File \"/Users/christiancleve/opt/anaconda3/lib/python3.9/site-packages/tensorflow/python/pywrap_tensorflow_internal.py\", line 24, in swig_import_helper\n    _mod = imp.load_module('_pywrap_tensorflow_internal', fp, pathname, description)\n  File \"/Users/christiancleve/opt/anaconda3/lib/python3.9/imp.py\", line 242, in load_module\n    return load_dynamic(name, filename, file)\n  File \"/Users/christiancleve/opt/anaconda3/lib/python3.9/imp.py\", line 342, in load_dynamic\n    return _load(spec)\nImportError: dlopen(/Users/christiancleve/opt/anaconda3/lib/python3.9/site-packages/tensorflow/python/_pywrap_tensorflow_internal.so, 0x0006): tried: '/Users/christiancleve/opt/anaconda3/lib/python3.9/site-packages/tensorflow/python/_pywrap_tensorflow_internal.so' (mach-o file, but is an incompatible architecture (have 'x86_64', need 'arm64')), '/System/Volumes/Preboot/Cryptexes/OS/Users/christiancleve/opt/anaconda3/lib/python3.9/site-packages/tensorflow/python/_pywrap_tensorflow_internal.so' (no such file), '/Users/christiancleve/opt/anaconda3/lib/python3.9/site-packages/tensorflow/python/_pywrap_tensorflow_internal.so' (mach-o file, but is an incompatible architecture (have 'x86_64', need 'arm64'))\n\n\nFailed to load the native TensorFlow runtime.\n\nSee https://www.tensorflow.org/install/errors\n\nfor some common reasons and solutions.  Include the entire stack trace\nabove this error message when asking for help."
     ]
    }
   ],
   "source": [
    "import numpy\n",
    "from tensorflow import keras\n",
    "from keras.constraints import maxnorm\n",
    "from keras.utils import np_utils\n",
    "from keras.datasets import cifar10"
   ]
  },
  {
   "cell_type": "code",
   "execution_count": 2,
   "outputs": [
    {
     "name": "stdout",
     "output_type": "stream",
     "text": [
      "Requirement already satisfied: tensorflow in /Users/christiancleve/opt/anaconda3/lib/python3.9/site-packages (1.12.0)\r\n",
      "Requirement already satisfied: termcolor>=1.1.0 in /Users/christiancleve/opt/anaconda3/lib/python3.9/site-packages (from tensorflow) (2.1.1)\r\n",
      "Requirement already satisfied: keras-preprocessing>=1.0.5 in /Users/christiancleve/opt/anaconda3/lib/python3.9/site-packages (from tensorflow) (1.1.2)\r\n",
      "Requirement already satisfied: astor>=0.6.0 in /Users/christiancleve/opt/anaconda3/lib/python3.9/site-packages (from tensorflow) (0.8.1)\r\n",
      "Requirement already satisfied: keras-applications>=1.0.6 in /Users/christiancleve/opt/anaconda3/lib/python3.9/site-packages (from tensorflow) (1.0.8)\r\n",
      "Requirement already satisfied: wheel>=0.26 in /Users/christiancleve/opt/anaconda3/lib/python3.9/site-packages (from tensorflow) (0.38.4)\r\n",
      "Requirement already satisfied: absl-py>=0.1.6 in /Users/christiancleve/opt/anaconda3/lib/python3.9/site-packages (from tensorflow) (1.3.0)\r\n",
      "Requirement already satisfied: protobuf>=3.6.1 in /Users/christiancleve/opt/anaconda3/lib/python3.9/site-packages (from tensorflow) (3.15.8)\r\n",
      "Requirement already satisfied: grpcio>=1.8.6 in /Users/christiancleve/.local/lib/python3.9/site-packages (from tensorflow) (1.51.1)\r\n",
      "Requirement already satisfied: numpy>=1.13.3 in /Users/christiancleve/opt/anaconda3/lib/python3.9/site-packages (from tensorflow) (1.23.5)\r\n",
      "Requirement already satisfied: tensorboard<1.13.0,>=1.12.0 in /Users/christiancleve/opt/anaconda3/lib/python3.9/site-packages (from tensorflow) (1.12.2)\r\n",
      "Requirement already satisfied: six>=1.10.0 in /Users/christiancleve/opt/anaconda3/lib/python3.9/site-packages (from tensorflow) (1.16.0)\r\n",
      "Requirement already satisfied: gast>=0.2.0 in /Users/christiancleve/opt/anaconda3/lib/python3.9/site-packages (from tensorflow) (0.3.3)\r\n",
      "Requirement already satisfied: h5py in /Users/christiancleve/opt/anaconda3/lib/python3.9/site-packages (from keras-applications>=1.0.6->tensorflow) (2.10.0)\r\n",
      "Requirement already satisfied: werkzeug>=0.11.10 in /Users/christiancleve/opt/anaconda3/lib/python3.9/site-packages (from tensorboard<1.13.0,>=1.12.0->tensorflow) (2.2.2)\r\n",
      "Requirement already satisfied: markdown>=2.6.8 in /Users/christiancleve/opt/anaconda3/lib/python3.9/site-packages (from tensorboard<1.13.0,>=1.12.0->tensorflow) (3.4.1)\r\n",
      "Requirement already satisfied: importlib-metadata>=4.4 in /Users/christiancleve/opt/anaconda3/lib/python3.9/site-packages (from markdown>=2.6.8->tensorboard<1.13.0,>=1.12.0->tensorflow) (5.1.0)\r\n",
      "Requirement already satisfied: MarkupSafe>=2.1.1 in /Users/christiancleve/opt/anaconda3/lib/python3.9/site-packages (from werkzeug>=0.11.10->tensorboard<1.13.0,>=1.12.0->tensorflow) (2.1.1)\r\n",
      "Requirement already satisfied: zipp>=0.5 in /Users/christiancleve/opt/anaconda3/lib/python3.9/site-packages (from importlib-metadata>=4.4->markdown>=2.6.8->tensorboard<1.13.0,>=1.12.0->tensorflow) (3.11.0)\r\n",
      "Note: you may need to restart the kernel to use updated packages.\n"
     ]
    }
   ],
   "source": [],
   "metadata": {
    "collapsed": false
   }
  },
  {
   "cell_type": "code",
   "execution_count": null,
   "outputs": [],
   "source": [],
   "metadata": {
    "collapsed": false
   }
  }
 ],
 "metadata": {
  "kernelspec": {
   "display_name": "Python 3",
   "language": "python",
   "name": "python3"
  },
  "language_info": {
   "codemirror_mode": {
    "name": "ipython",
    "version": 2
   },
   "file_extension": ".py",
   "mimetype": "text/x-python",
   "name": "python",
   "nbconvert_exporter": "python",
   "pygments_lexer": "ipython2",
   "version": "2.7.6"
  }
 },
 "nbformat": 4,
 "nbformat_minor": 0
}
